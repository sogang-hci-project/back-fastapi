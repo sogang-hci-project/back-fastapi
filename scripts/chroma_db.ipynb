{
 "cells": [
  {
   "cell_type": "code",
   "execution_count": 1,
   "metadata": {},
   "outputs": [],
   "source": [
    "import chromadb\n",
    "from llama_index import SimpleDirectoryReader\n",
    "from llama_index.node_parser import SimpleNodeParser\n",
    "from llama_index.langchain_helpers.text_splitter import TokenTextSplitter\n",
    "from llama_index.node_parser.extractors import KeywordExtractor, MetadataExtractor\n",
    "from chromadb.utils import embedding_functions\n",
    "\n",
    "def print_text_with_line_breaks(text, line_length=100):\n",
    "    for i in range(0, len(text), line_length):\n",
    "        print(text[i:i+line_length])\n"
   ]
  },
  {
   "attachments": {},
   "cell_type": "markdown",
   "metadata": {},
   "source": [
    "#### Loading Data"
   ]
  },
  {
   "cell_type": "code",
   "execution_count": 51,
   "metadata": {},
   "outputs": [
    {
     "name": "stdout",
     "output_type": "stream",
     "text": [
      "Loaded 1395\n"
     ]
    }
   ],
   "source": [
    "required_text = [\".txt\"]\n",
    "reader = SimpleDirectoryReader(\n",
    "    input_dir=\"../src/documents/wikipedia\", required_exts=required_text, recursive=True\n",
    ")\n",
    "documents = reader.load_data()\n",
    "print(f\"Loaded {len(documents)}\")"
   ]
  },
  {
   "cell_type": "code",
   "execution_count": 52,
   "metadata": {},
   "outputs": [],
   "source": [
    "text_splitter = TokenTextSplitter(separator=\".\", chunk_size=256, chunk_overlap=64)\n",
    "# metadata_extractor = MetadataExtractor(extractors=[KeywordExtractor(keywords=10)])\n",
    "# parser = SimpleNodeParser(text_splitter=text_splitter, metadata_extractor=metadata_extractor)\n",
    "parser = SimpleNodeParser(text_splitter=text_splitter)\n",
    "nodes = parser.get_nodes_from_documents(documents=documents)"
   ]
  },
  {
   "cell_type": "code",
   "execution_count": 2,
   "metadata": {},
   "outputs": [
    {
     "ename": "NameError",
     "evalue": "name 'nodes' is not defined",
     "output_type": "error",
     "traceback": [
      "\u001b[0;31m---------------------------------------------------------------------------\u001b[0m",
      "\u001b[0;31mNameError\u001b[0m                                 Traceback (most recent call last)",
      "Cell \u001b[0;32mIn[2], line 1\u001b[0m\n\u001b[0;32m----> 1\u001b[0m \u001b[39mprint\u001b[39m(nodes[\u001b[39m0\u001b[39m]\u001b[39m.\u001b[39mget_content())\n\u001b[1;32m      2\u001b[0m \u001b[39mprint\u001b[39m(\u001b[39mlen\u001b[39m(nodes))\n",
      "\u001b[0;31mNameError\u001b[0m: name 'nodes' is not defined"
     ]
    }
   ],
   "source": [
    "print(nodes[0].get_content())\n",
    "print(len(nodes))"
   ]
  },
  {
   "attachments": {},
   "cell_type": "markdown",
   "metadata": {},
   "source": [
    "#### Loading ChromaDB and Initialize"
   ]
  },
  {
   "cell_type": "code",
   "execution_count": 3,
   "metadata": {},
   "outputs": [
    {
     "data": {
      "text/plain": [
       "1690842612635429890"
      ]
     },
     "execution_count": 3,
     "metadata": {},
     "output_type": "execute_result"
    }
   ],
   "source": [
    "client = chromadb.PersistentClient(path=\"../src/representations/\")\n",
    "client.heartbeat()"
   ]
  },
  {
   "cell_type": "code",
   "execution_count": 5,
   "metadata": {},
   "outputs": [],
   "source": [
    "# sentence_transformer_ef = embedding_functions.SentenceTransformerEmbeddingFunction(model_name=\"all-MiniLM-L6-v2\")\n",
    "sentence_transformer_ef = embedding_functions.SentenceTransformerEmbeddingFunction(model_name=\"all-mpnet-base-v2\")"
   ]
  },
  {
   "cell_type": "code",
   "execution_count": 6,
   "metadata": {},
   "outputs": [],
   "source": [
    "# collection = client.get_or_create_collection(name=\"picasso_collection\", embedding_function=sentence_transformer_ef)\n",
    "collection = client.get_or_create_collection(name=\"picasso_collection_wikipedia\", embedding_function=sentence_transformer_ef)\n"
   ]
  },
  {
   "cell_type": "code",
   "execution_count": 56,
   "metadata": {},
   "outputs": [],
   "source": [
    "for node in nodes:\n",
    "    document = node.get_content()\n",
    "    id = node.id_\n",
    "    collection.add(\n",
    "        documents=[document],\n",
    "        ids=[id],\n",
    "    )\n",
    "#)"
   ]
  },
  {
   "cell_type": "code",
   "execution_count": 7,
   "metadata": {},
   "outputs": [
    {
     "data": {
      "text/plain": [
       "28292"
      ]
     },
     "execution_count": 7,
     "metadata": {},
     "output_type": "execute_result"
    }
   ],
   "source": [
    "# collection = client.get_or_create_collection(name=\"picasso_collection\", embedding_function=sentence_transformer_ef)\n",
    "collection = client.get_or_create_collection(name=\"picasso_collection_wikipedia\", embedding_function=sentence_transformer_ef)\n",
    "collection.count()"
   ]
  },
  {
   "attachments": {},
   "cell_type": "markdown",
   "metadata": {},
   "source": [
    "#### Creating VectorStore from ChromaDB"
   ]
  },
  {
   "cell_type": "code",
   "execution_count": 8,
   "metadata": {},
   "outputs": [],
   "source": [
    "from llama_index import VectorStoreIndex, SimpleDirectoryReader, ServiceContext\n",
    "from llama_index.vector_stores import ChromaVectorStore\n",
    "from llama_index.storage.storage_context import StorageContext\n",
    "from langchain.embeddings.huggingface import HuggingFaceEmbeddings\n",
    "from llama_index.embeddings import LangchainEmbedding"
   ]
  },
  {
   "cell_type": "code",
   "execution_count": 9,
   "metadata": {},
   "outputs": [
    {
     "name": "stderr",
     "output_type": "stream",
     "text": [
      "/home/semantic-server/soganghci/api-server/.venv/lib/python3.10/site-packages/torch/cuda/__init__.py:107: UserWarning: CUDA initialization: CUDA unknown error - this may be due to an incorrectly set up environment, e.g. changing env variable CUDA_VISIBLE_DEVICES after program start. Setting the available devices to be zero. (Triggered internally at ../c10/cuda/CUDAFunctions.cpp:109.)\n",
      "  return torch._C._cuda_getDeviceCount() > 0\n"
     ]
    }
   ],
   "source": [
    "embed_model = LangchainEmbedding(\n",
    "    HuggingFaceEmbeddings(model_name=\"sentence-transformers/all-mpnet-base-v2\")\n",
    ")"
   ]
  },
  {
   "cell_type": "code",
   "execution_count": 10,
   "metadata": {},
   "outputs": [],
   "source": [
    "vector_store = ChromaVectorStore(chroma_collection=collection)\n",
    "storage_context = StorageContext.from_defaults(vector_store=vector_store)\n",
    "service_context = ServiceContext.from_defaults(embed_model=embed_model)"
   ]
  },
  {
   "cell_type": "code",
   "execution_count": 11,
   "metadata": {},
   "outputs": [],
   "source": [
    "index = VectorStoreIndex.from_vector_store(\n",
    "    vector_store=vector_store, storage_context=storage_context, service_context=service_context\n",
    ")"
   ]
  },
  {
   "cell_type": "code",
   "execution_count": 19,
   "metadata": {},
   "outputs": [
    {
     "name": "stdout",
     "output_type": "stream",
     "text": [
      "\n",
      "The broken sword near the bottom of the painting symbolizes the defeat of the people at the hand of their tormentors.\n"
     ]
    }
   ],
   "source": [
    "query_engine = index.as_query_engine()\n",
    "res =query_engine.query(\"Whats the meaning of the broken sword in the painting Guernica?\")\n",
    "print(res)"
   ]
  },
  {
   "cell_type": "code",
   "execution_count": 14,
   "metadata": {},
   "outputs": [
    {
     "name": "stdout",
     "output_type": "stream",
     "text": [
      "The Weeping Woman has been described as the most complex, most fragmented and most highly coloured o\n",
      "f all the weeping women artworks. In addition to the confused mass of hands, mouth, teeth, handkerch\n",
      "ief and tears in the centre of the painting, Picasso also depicted the eyes with great analytical at\n",
      "tention. The Tate draws particular attention to the childlike but striking rendition of the eyes, wh\n",
      "ich have been depicted like boats or overflowing saucers and have been placed on the peaks of the ha\n",
      "ndkerchief to provide an intense exploration of physical and emotional distress. This element was ex\n",
      "pressed in earlier works that Picasso produced in the same year, which was most intense between 12 a\n",
      "nd 18 October 1937. The earlier paintings also featured the symbol of the handkerchief within the co\n",
      "mposition.The architecture of the weeping woman's face is very distinctive and shares many design el\n",
      "ements with the four female figures depicted in Guernica. The face is portrayed from mixed viewpoint\n",
      "s, with the nose in profile, the mouth shown in three-quarters view and the eyes viewed from the fro\n",
      "nt. This treatment of the face is echoed in the faces of the Guernica women\n",
      "======\n",
      "The maid on the viewer's left is given a brightly lit profile, while her sleeve create a diagonal. H\n",
      "er opposite figure creates a broader but less defined reflection of her attention, making a diagonal\n",
      " space between them, in which their charge stands protected.A further internal diagonal passes throu\n",
      "gh the space occupied by the Infanta. There is a similar connection between the female dwarf and the\n",
      " figure of Velázquez himself, both of whom look towards the viewer from similar angles, creating a v\n",
      "isual tension. The face of Velázquez is dimly lit by light that is reflected, rather than direct. Fo\n",
      "r this reason his features, though not as sharply defined, are more visible than those of the dwarf \n",
      "who is much nearer the light source. This appearance of a total face, full-on to the viewer, draws t\n",
      "he attention, and its importance is marked, tonally, by the contrasting frame of dark hair, the ligh\n",
      "t on the hand and brush, and the skilfully placed triangle of light on the artist's sleeve, pointing\n",
      " directly to the face.The mirror is a perfectly defined unbroken pale rectangle within a broad black\n",
      " rectangle\n",
      "======\n",
      "A bare light bulb in the shape of an all-seeing eye blazes over the suffering horse's head.\n",
      "To the h\n",
      "orse's upper right the head and extended right arm of a frightened female figure appears to have flo\n",
      "ated into the room through a window, and she witnesses the scene. In her right hand she carries a fl\n",
      "ame-lit lamp, and holds it near the bare bulb. From the right, below the witness, an awe-struck woma\n",
      "n staggers towards the center, looking into the blazing light bulb with a blank stare.\n",
      "Daggers that \n",
      "suggest screaming have replaced the tongues of the horse, the bull, and the grieving woman. To the b\n",
      "ull's right a dove appears on a cracked wall through which bright light from the outside shines.\n",
      "On \n",
      "the far right a fourth woman, her arms raised in terror, her wide open mouth and thrown back head ec\n",
      "hoing the grieving woman's, is entrapped by fire from above and below. Her right hand suggests the s\n",
      "hape of an airplane.\n",
      "A dark wall with an open door defines the right side of the room.\n",
      "A \"hidden\" im\n",
      "age formed by the horse appears in Guernica: The horse's nostrils and upper teeth can be seen as a h\n",
      "uman skull facing left and slightly downward\n",
      "======\n",
      "A bare light bulb in the shape of an all-seeing eye blazes over the suffering horse's head.\n",
      "To the h\n",
      "orse's upper right the head and extended right arm of a frightened female figure appears to have flo\n",
      "ated into the room through a window, and she witnesses the scene. In her right hand she carries a fl\n",
      "ame-lit lamp, and holds it near the bare bulb. From the right, below the witness, an awe-struck woma\n",
      "n staggers towards the center, looking into the blazing light bulb with a blank stare.\n",
      "Daggers that \n",
      "suggest screaming have replaced the tongues of the horse, the bull, and the grieving woman. To the b\n",
      "ull's right a dove appears on a cracked wall through which bright light from the outside shines.\n",
      "On \n",
      "the far right a fourth woman, her arms raised in terror, her wide open mouth and thrown back head ec\n",
      "hoing the grieving woman's, is entrapped by fire from above and below. Her right hand suggests the s\n",
      "hape of an airplane.\n",
      "A dark wall with an open door defines the right side of the room.\n",
      "A \"hidden\" im\n",
      "age formed by the horse appears in Guernica: The horse's nostrils and upper teeth can be seen as a h\n",
      "uman skull facing left and slightly downward\n",
      "======\n",
      "The faces are rather blocky, the whole group with arms intertwined—arms that end suddenly, no hands,\n",
      " might be the sketch of a sculpture to be. But when one gets an insight it is intensely more interes\n",
      "ting. It is, eventually, clear that in portraying his idea of family love the sculptor has built his\n",
      " figures with pyramidal strength; they are grafted together with love and geometric design, their li\n",
      "mbs are bracings, ties of strength, they represent, not individuals, but the structure itself of fam\n",
      "ily life. Not family life as one sees it, but the unseen, the deep emotional unseen, and in making h\n",
      "is group when the sculptor found himself verging upon the seen—that is, when he no longer felt the u\n",
      "nseen—he stopped. Therefore, the hands were not essential. And this expression is made in the simple\n",
      "st way. Some will hoot at it, but others will feel the respect that is due one who simplifies and ex\n",
      "presses the deep things of life. You may say that such is literature in marble—well, it is the most \n",
      "modern sculpture\n",
      "======\n"
     ]
    }
   ],
   "source": [
    "from llama_index.indices.vector_store.retrievers import VectorIndexRetriever\n",
    "\n",
    "retriever = VectorIndexRetriever(index=index, similarity_top_k=5)\n",
    "node_reps = retriever.retrieve(\"Whats the meaning of eye in the painting Guernica?\")\n",
    "\n",
    "for node_rep in node_reps:\n",
    "    print_text_with_line_breaks(node_rep.node.get_content())\n",
    "    print(\"======\")"
   ]
  }
 ],
 "metadata": {
  "kernelspec": {
   "display_name": ".venv",
   "language": "python",
   "name": "python3"
  },
  "language_info": {
   "codemirror_mode": {
    "name": "ipython",
    "version": 3
   },
   "file_extension": ".py",
   "mimetype": "text/x-python",
   "name": "python",
   "nbconvert_exporter": "python",
   "pygments_lexer": "ipython3",
   "version": "3.10.9"
  },
  "orig_nbformat": 4
 },
 "nbformat": 4,
 "nbformat_minor": 2
}
