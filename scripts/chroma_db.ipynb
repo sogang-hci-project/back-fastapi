{
 "cells": [
  {
   "cell_type": "code",
   "execution_count": 80,
   "metadata": {},
   "outputs": [],
   "source": [
    "import chromadb\n",
    "from llama_index import SimpleDirectoryReader\n",
    "from llama_index.node_parser import SimpleNodeParser\n",
    "from llama_index.langchain_helpers.text_splitter import TokenTextSplitter\n",
    "from llama_index.node_parser.extractors import KeywordExtractor, MetadataExtractor\n",
    "from chromadb.utils import embedding_functions\n",
    "\n",
    "def print_text_with_line_breaks(text, line_length=100):\n",
    "    for i in range(0, len(text), line_length):\n",
    "        print(text[i:i+line_length])\n"
   ]
  },
  {
   "attachments": {},
   "cell_type": "markdown",
   "metadata": {},
   "source": [
    "#### Loading Data"
   ]
  },
  {
   "cell_type": "code",
   "execution_count": 51,
   "metadata": {},
   "outputs": [
    {
     "name": "stdout",
     "output_type": "stream",
     "text": [
      "Loaded 1395\n"
     ]
    }
   ],
   "source": [
    "required_text = [\".txt\"]\n",
    "reader = SimpleDirectoryReader(\n",
    "    input_dir=\"../src/documents/wikipedia\", required_exts=required_text, recursive=True\n",
    ")\n",
    "documents = reader.load_data()\n",
    "print(f\"Loaded {len(documents)}\")"
   ]
  },
  {
   "cell_type": "code",
   "execution_count": 52,
   "metadata": {},
   "outputs": [],
   "source": [
    "text_splitter = TokenTextSplitter(separator=\".\", chunk_size=256, chunk_overlap=64)\n",
    "# metadata_extractor = MetadataExtractor(extractors=[KeywordExtractor(keywords=10)])\n",
    "# parser = SimpleNodeParser(text_splitter=text_splitter, metadata_extractor=metadata_extractor)\n",
    "parser = SimpleNodeParser(text_splitter=text_splitter)\n",
    "nodes = parser.get_nodes_from_documents(documents=documents)"
   ]
  },
  {
   "cell_type": "code",
   "execution_count": 53,
   "metadata": {},
   "outputs": [
    {
     "name": "stdout",
     "output_type": "stream",
     "text": [
      "100 Great Paintings is a British television series broadcast in 1980 on BBC 2, devised by Edwin Mullins. He chose 20 thematic groups, such as war, the Adoration, the language of colour, the hunt, and bathing, picking five paintings from each. The selection ranges from 12th-century China through the 1950s, with an emphasis on European paintings.  He deliberately avoided especially famous paintings, such as Leonardo da Vinci's Mona Lisa or John Constable's The Haywain. The series is available on VHS and DVD.On the basis of the series, Mullins published the book Great Paintings: Fifty Masterpieces, Explored, Explained and Appreciated (1981), which contained about half of the theme groups. A German translation of Mullins' book appeared as 100 Meisterwerke in 1983. In 1985, a second volume came out, only in Germany, which discussed the remaining 50 paintings\n",
      "30599\n"
     ]
    }
   ],
   "source": [
    "print(nodes[0].get_content())\n",
    "print(len(nodes))"
   ]
  },
  {
   "attachments": {},
   "cell_type": "markdown",
   "metadata": {},
   "source": [
    "#### Loading ChromaDB and Initialize"
   ]
  },
  {
   "cell_type": "code",
   "execution_count": 54,
   "metadata": {},
   "outputs": [
    {
     "data": {
      "text/plain": [
       "1690125404519743756"
      ]
     },
     "execution_count": 54,
     "metadata": {},
     "output_type": "execute_result"
    }
   ],
   "source": [
    "client = chromadb.PersistentClient(path=\"../src/representations/\")\n",
    "client.heartbeat()"
   ]
  },
  {
   "cell_type": "code",
   "execution_count": 27,
   "metadata": {},
   "outputs": [
    {
     "name": "stderr",
     "output_type": "stream",
     "text": [
      "/home/semantic-server/soganghci/api-server/.venv/lib/python3.10/site-packages/tqdm/auto.py:21: TqdmWarning: IProgress not found. Please update jupyter and ipywidgets. See https://ipywidgets.readthedocs.io/en/stable/user_install.html\n",
      "  from .autonotebook import tqdm as notebook_tqdm\n",
      "Downloading (…)a8e1d/.gitattributes: 100%|██████████| 1.18k/1.18k [00:00<00:00, 7.41MB/s]\n",
      "Downloading (…)_Pooling/config.json: 100%|██████████| 190/190 [00:00<00:00, 1.24MB/s]\n",
      "Downloading (…)b20bca8e1d/README.md: 100%|██████████| 10.6k/10.6k [00:00<00:00, 30.0MB/s]\n",
      "Downloading (…)0bca8e1d/config.json: 100%|██████████| 571/571 [00:00<00:00, 3.94MB/s]\n",
      "Downloading (…)ce_transformers.json: 100%|██████████| 116/116 [00:00<00:00, 789kB/s]\n",
      "Downloading (…)e1d/data_config.json: 100%|██████████| 39.3k/39.3k [00:00<00:00, 230kB/s]\n",
      "Downloading pytorch_model.bin: 100%|██████████| 438M/438M [00:54<00:00, 8.08MB/s] \n",
      "Downloading (…)nce_bert_config.json: 100%|██████████| 53.0/53.0 [00:00<00:00, 339kB/s]\n",
      "Downloading (…)cial_tokens_map.json: 100%|██████████| 239/239 [00:00<00:00, 1.67MB/s]\n",
      "Downloading (…)a8e1d/tokenizer.json: 100%|██████████| 466k/466k [00:00<00:00, 866kB/s]\n",
      "Downloading (…)okenizer_config.json: 100%|██████████| 363/363 [00:00<00:00, 3.08MB/s]\n",
      "Downloading (…)8e1d/train_script.py: 100%|██████████| 13.1k/13.1k [00:00<00:00, 36.3MB/s]\n",
      "Downloading (…)b20bca8e1d/vocab.txt: 100%|██████████| 232k/232k [00:00<00:00, 9.49MB/s]\n",
      "Downloading (…)bca8e1d/modules.json: 100%|██████████| 349/349 [00:00<00:00, 2.37MB/s]\n"
     ]
    }
   ],
   "source": [
    "# sentence_transformer_ef = embedding_functions.SentenceTransformerEmbeddingFunction(model_name=\"all-MiniLM-L6-v2\")\n",
    "sentence_transformer_ef = embedding_functions.SentenceTransformerEmbeddingFunction(model_name=\"all-mpnet-base-v2\")"
   ]
  },
  {
   "cell_type": "code",
   "execution_count": 55,
   "metadata": {},
   "outputs": [],
   "source": [
    "collection = client.get_or_create_collection(name=\"picasso_collection\", embedding_function=sentence_transformer_ef)\n"
   ]
  },
  {
   "cell_type": "code",
   "execution_count": 56,
   "metadata": {},
   "outputs": [],
   "source": [
    "for node in nodes:\n",
    "    document = node.get_content()\n",
    "    id = node.id_\n",
    "    collection.add(\n",
    "        documents=[document],\n",
    "        ids=[id],\n",
    "    )\n",
    "#)"
   ]
  },
  {
   "cell_type": "code",
   "execution_count": 58,
   "metadata": {},
   "outputs": [
    {
     "data": {
      "text/plain": [
       "30599"
      ]
     },
     "execution_count": 58,
     "metadata": {},
     "output_type": "execute_result"
    }
   ],
   "source": [
    "collection = client.get_or_create_collection(name=\"picasso_collection\", embedding_function=sentence_transformer_ef)\n",
    "collection.count()"
   ]
  },
  {
   "attachments": {},
   "cell_type": "markdown",
   "metadata": {},
   "source": [
    "#### Creating VectorStore from ChromaDB"
   ]
  },
  {
   "cell_type": "code",
   "execution_count": 59,
   "metadata": {},
   "outputs": [],
   "source": [
    "from llama_index import VectorStoreIndex, SimpleDirectoryReader, ServiceContext\n",
    "from llama_index.vector_stores import ChromaVectorStore\n",
    "from llama_index.storage.storage_context import StorageContext\n",
    "from langchain.embeddings.huggingface import HuggingFaceEmbeddings\n",
    "from llama_index.embeddings import LangchainEmbedding"
   ]
  },
  {
   "cell_type": "code",
   "execution_count": 42,
   "metadata": {},
   "outputs": [
    {
     "name": "stderr",
     "output_type": "stream",
     "text": [
      "/home/semantic-server/soganghci/api-server/.venv/lib/python3.10/site-packages/torch/cuda/__init__.py:107: UserWarning: CUDA initialization: CUDA unknown error - this may be due to an incorrectly set up environment, e.g. changing env variable CUDA_VISIBLE_DEVICES after program start. Setting the available devices to be zero. (Triggered internally at ../c10/cuda/CUDAFunctions.cpp:109.)\n",
      "  return torch._C._cuda_getDeviceCount() > 0\n"
     ]
    }
   ],
   "source": [
    "embed_model = LangchainEmbedding(\n",
    "    HuggingFaceEmbeddings(model_name=\"sentence-transformers/all-mpnet-base-v2\")\n",
    ")"
   ]
  },
  {
   "cell_type": "code",
   "execution_count": 60,
   "metadata": {},
   "outputs": [],
   "source": [
    "vector_store = ChromaVectorStore(chroma_collection=collection)\n",
    "storage_context = StorageContext.from_defaults(vector_store=vector_store)\n",
    "service_context = ServiceContext.from_defaults(embed_model=embed_model)"
   ]
  },
  {
   "cell_type": "code",
   "execution_count": 61,
   "metadata": {},
   "outputs": [],
   "source": [
    "index = VectorStoreIndex.from_vector_store(\n",
    "    vector_store=vector_store, storage_context=storage_context, service_context=service_context\n",
    ")"
   ]
  },
  {
   "cell_type": "code",
   "execution_count": 69,
   "metadata": {},
   "outputs": [
    {
     "name": "stdout",
     "output_type": "stream",
     "text": [
      "\n",
      "The eye in the Guernica is meant to represent the all-seeing eye of God, symbolizing His omnipresence and divine providence. It is also a reference to the Illuminati, suggesting the presence of a higher power that is watching and judging the events of the painting. The hidden image of the horse's nostrils and upper teeth forming a human skull is meant to further emphasize the idea of divine judgement.\n"
     ]
    }
   ],
   "source": [
    "query_engine = index.as_query_engine()\n",
    "res =query_engine.query(\"Whats the meaning of eye in the Guernica?\")"
   ]
  },
  {
   "cell_type": "code",
   "execution_count": 86,
   "metadata": {},
   "outputs": [
    {
     "name": "stdout",
     "output_type": "stream",
     "text": [
      "Seventeenth-century depictions of the Eye sometimes show it surrounded by clouds or sunbursts. The E\n",
      "ye of God in a triangle is still used in church architecture and Christian art to symbolize the Trin\n",
      "ity and God's omnipresence and divine providence. \n",
      "The Eye of Providence is notably featured on the \n",
      "following Eastern Orthodox, Latter-day Saint, and Catholic buildings, among others:\n",
      "\n",
      "The Kazan Cathe\n",
      "dral, Saint Petersburg, Russia\n",
      "The Salt Lake Temple, Salt Lake City, Utah\n",
      "Jesuit Church, Mannheim, G\n",
      "ermany\n",
      "Shio-Mgvime Monastery, Mtskheta, Georgia\n",
      "\n",
      "Miscellaneous uses\n",
      "Commonly in the context of a ref\n",
      "erence to the Illuminati, numerous video games, TV shows, films, books, and websites contain depicti\n",
      "ons of the Eye\n",
      "======\n",
      "A bare light bulb in the shape of an all-seeing eye blazes over the suffering horse's head.\n",
      "To the h\n",
      "orse's upper right the head and extended right arm of a frightened female figure appears to have flo\n",
      "ated into the room through a window, and she witnesses the scene. In her right hand she carries a fl\n",
      "ame-lit lamp, and holds it near the bare bulb. From the right, below the witness, an awe-struck woma\n",
      "n staggers towards the center, looking into the blazing light bulb with a blank stare.\n",
      "Daggers that \n",
      "suggest screaming have replaced the tongues of the horse, the bull, and the grieving woman. To the b\n",
      "ull's right a dove appears on a cracked wall through which bright light from the outside shines.\n",
      "On \n",
      "the far right a fourth woman, her arms raised in terror, her wide open mouth and thrown back head ec\n",
      "hoing the grieving woman's, is entrapped by fire from above and below. Her right hand suggests the s\n",
      "hape of an airplane.\n",
      "A dark wall with an open door defines the right side of the room.\n",
      "A \"hidden\" im\n",
      "age formed by the horse appears in Guernica: The horse's nostrils and upper teeth can be seen as a h\n",
      "uman skull facing left and slightly downward\n",
      "======\n",
      "A bare light bulb in the shape of an all-seeing eye blazes over the suffering horse's head.\n",
      "To the h\n",
      "orse's upper right the head and extended right arm of a frightened female figure appears to have flo\n",
      "ated into the room through a window, and she witnesses the scene. In her right hand she carries a fl\n",
      "ame-lit lamp, and holds it near the bare bulb. From the right, below the witness, an awe-struck woma\n",
      "n staggers towards the center, looking into the blazing light bulb with a blank stare.\n",
      "Daggers that \n",
      "suggest screaming have replaced the tongues of the horse, the bull, and the grieving woman. To the b\n",
      "ull's right a dove appears on a cracked wall through which bright light from the outside shines.\n",
      "On \n",
      "the far right a fourth woman, her arms raised in terror, her wide open mouth and thrown back head ec\n",
      "hoing the grieving woman's, is entrapped by fire from above and below. Her right hand suggests the s\n",
      "hape of an airplane.\n",
      "A dark wall with an open door defines the right side of the room.\n",
      "A \"hidden\" im\n",
      "age formed by the horse appears in Guernica: The horse's nostrils and upper teeth can be seen as a h\n",
      "uman skull facing left and slightly downward\n",
      "======\n",
      "From the right, below the witness, an awe-struck woman staggers towards the center, looking into the\n",
      " blazing light bulb with a blank stare.\n",
      " Daggers that suggest screaming have replaced the tongues of\n",
      " the horse, the bull, and the grieving woman. To the bull's right a dove appears on a cracked wall t\n",
      "hrough which bright light from the outside shines.\n",
      " On the far right a fourth woman, her arms raised\n",
      " in terror, her wide open mouth and thrown back head echoing the grieving woman's, is entrapped by f\n",
      "ire from above and below. Her right hand suggests the shape of an airplane.\n",
      " A dark wall with an ope\n",
      "n door defines the right side of the room.\n",
      " A \"hidden\" image formed by the horse appears in Guernica\n",
      ": The horse's nostrils and upper teeth can be seen as a human skull facing left and slightly downwar\n",
      "d.\n",
      " Another hidden image is of a bull that appears to gore the horse from underneath. The bull's hea\n",
      "d is formed mainly by the horse's entire front leg which has the knee on the ground. The leg's knee-\n",
      "cap forms the head's nose. A horn appears within the horse's breast\n",
      "======\n",
      "The Eye of Providence (or the All-Seeing Eye of God) is a figure that depicts an eye, often enclosed\n",
      " in a triangle and surrounded by rays of light or glory, meant to represent divine providence whereb\n",
      "y the eye of God watches over humanity. A well known example of the Eye of Providence appears on the\n",
      " reverse of the Great Seal of the United States, which is depicted on the United States one-dollar b\n",
      "ill.\n",
      "\n",
      "Use by governments and confederations\n",
      "United States\n",
      "In 1782, the Eye of Providence was adopted\n",
      " as part of the symbolism featured on the reverse side of the Great Seal of the United States. It wa\n",
      "s first proposed as an element of the Great Seal by the first of three design committees in 1776, an\n",
      "d is thought to be the suggestion of the artistic consultant, Pierre Eugene du Simitiere, and at the\n",
      " time, was a conventional symbol for God’s benevolent oversight.In his original proposal to the comm\n",
      "ittee, du Simitiere placed the Eye over shields so as to symbolize each of the original thirteen sta\n",
      "tes of the Union\n",
      "======\n"
     ]
    }
   ],
   "source": [
    "from llama_index.indices.vector_store.retrievers import VectorIndexRetriever\n",
    "\n",
    "retriever = VectorIndexRetriever(index=index, similarity_top_k=5)\n",
    "node_reps = retriever.retrieve(\"Whats the meaning of eye in the Guernica?\")\n",
    "\n",
    "for node_rep in node_reps:\n",
    "    print_text_with_line_breaks(node_rep.node.get_content())\n",
    "    print(\"======\")"
   ]
  }
 ],
 "metadata": {
  "kernelspec": {
   "display_name": ".venv",
   "language": "python",
   "name": "python3"
  },
  "language_info": {
   "codemirror_mode": {
    "name": "ipython",
    "version": 3
   },
   "file_extension": ".py",
   "mimetype": "text/x-python",
   "name": "python",
   "nbconvert_exporter": "python",
   "pygments_lexer": "ipython3",
   "version": "3.10.9"
  },
  "orig_nbformat": 4
 },
 "nbformat": 4,
 "nbformat_minor": 2
}
