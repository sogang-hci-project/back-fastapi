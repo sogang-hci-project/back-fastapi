{
 "cells": [
  {
   "cell_type": "code",
   "execution_count": 1,
   "metadata": {},
   "outputs": [],
   "source": [
    "import chromadb\n",
    "from llama_index import SimpleDirectoryReader\n",
    "from llama_index.node_parser import SimpleNodeParser\n",
    "from llama_index.langchain_helpers.text_splitter import TokenTextSplitter\n",
    "from llama_index.node_parser.extractors import KeywordExtractor, MetadataExtractor\n",
    "from chromadb.utils import embedding_functions\n",
    "\n",
    "def print_text_with_line_breaks(text, line_length=100):\n",
    "    for i in range(0, len(text), line_length):\n",
    "        print(text[i:i+line_length])\n"
   ]
  },
  {
   "attachments": {},
   "cell_type": "markdown",
   "metadata": {},
   "source": [
    "#### Loading Data"
   ]
  },
  {
   "cell_type": "code",
   "execution_count": 51,
   "metadata": {},
   "outputs": [
    {
     "name": "stdout",
     "output_type": "stream",
     "text": [
      "Loaded 1395\n"
     ]
    }
   ],
   "source": [
    "required_text = [\".txt\"]\n",
    "reader = SimpleDirectoryReader(\n",
    "    input_dir=\"../src/documents/wikipedia\", required_exts=required_text, recursive=True\n",
    ")\n",
    "documents = reader.load_data()\n",
    "print(f\"Loaded {len(documents)}\")"
   ]
  },
  {
   "cell_type": "code",
   "execution_count": 52,
   "metadata": {},
   "outputs": [],
   "source": [
    "text_splitter = TokenTextSplitter(separator=\".\", chunk_size=256, chunk_overlap=64)\n",
    "# metadata_extractor = MetadataExtractor(extractors=[KeywordExtractor(keywords=10)])\n",
    "# parser = SimpleNodeParser(text_splitter=text_splitter, metadata_extractor=metadata_extractor)\n",
    "parser = SimpleNodeParser(text_splitter=text_splitter)\n",
    "nodes = parser.get_nodes_from_documents(documents=documents)"
   ]
  },
  {
   "cell_type": "code",
   "execution_count": 2,
   "metadata": {},
   "outputs": [
    {
     "ename": "NameError",
     "evalue": "name 'nodes' is not defined",
     "output_type": "error",
     "traceback": [
      "\u001b[0;31m---------------------------------------------------------------------------\u001b[0m",
      "\u001b[0;31mNameError\u001b[0m                                 Traceback (most recent call last)",
      "Cell \u001b[0;32mIn[2], line 1\u001b[0m\n\u001b[0;32m----> 1\u001b[0m \u001b[39mprint\u001b[39m(nodes[\u001b[39m0\u001b[39m]\u001b[39m.\u001b[39mget_content())\n\u001b[1;32m      2\u001b[0m \u001b[39mprint\u001b[39m(\u001b[39mlen\u001b[39m(nodes))\n",
      "\u001b[0;31mNameError\u001b[0m: name 'nodes' is not defined"
     ]
    }
   ],
   "source": [
    "print(nodes[0].get_content())\n",
    "print(len(nodes))"
   ]
  },
  {
   "attachments": {},
   "cell_type": "markdown",
   "metadata": {},
   "source": [
    "#### Loading ChromaDB and Initialize"
   ]
  },
  {
   "cell_type": "code",
   "execution_count": 2,
   "metadata": {},
   "outputs": [
    {
     "data": {
      "text/plain": [
       "1691075089119408187"
      ]
     },
     "execution_count": 2,
     "metadata": {},
     "output_type": "execute_result"
    }
   ],
   "source": [
    "client = chromadb.PersistentClient(path=\"../src/representations/\")\n",
    "client.heartbeat()"
   ]
  },
  {
   "cell_type": "code",
   "execution_count": 3,
   "metadata": {},
   "outputs": [
    {
     "name": "stderr",
     "output_type": "stream",
     "text": [
      "/home/semantic-server/soganghci/api-server/.venv/lib/python3.10/site-packages/tqdm/auto.py:21: TqdmWarning: IProgress not found. Please update jupyter and ipywidgets. See https://ipywidgets.readthedocs.io/en/stable/user_install.html\n",
      "  from .autonotebook import tqdm as notebook_tqdm\n"
     ]
    }
   ],
   "source": [
    "# sentence_transformer_ef = embedding_functions.SentenceTransformerEmbeddingFunction(model_name=\"all-MiniLM-L6-v2\")\n",
    "sentence_transformer_ef = embedding_functions.SentenceTransformerEmbeddingFunction(model_name=\"all-mpnet-base-v2\")"
   ]
  },
  {
   "cell_type": "code",
   "execution_count": 4,
   "metadata": {},
   "outputs": [],
   "source": [
    "# collection = client.get_or_create_collection(name=\"picasso_collection\", embedding_function=sentence_transformer_ef)\n",
    "collection = client.get_or_create_collection(name=\"picasso_collection_wikipedia\", embedding_function=sentence_transformer_ef)\n"
   ]
  },
  {
   "cell_type": "code",
   "execution_count": 56,
   "metadata": {},
   "outputs": [],
   "source": [
    "for node in nodes:\n",
    "    document = node.get_content()\n",
    "    id = node.id_\n",
    "    collection.add(\n",
    "        documents=[document],\n",
    "        ids=[id],\n",
    "    )"
   ]
  },
  {
   "cell_type": "code",
   "execution_count": 7,
   "metadata": {},
   "outputs": [
    {
     "data": {
      "text/plain": [
       "28292"
      ]
     },
     "execution_count": 7,
     "metadata": {},
     "output_type": "execute_result"
    }
   ],
   "source": [
    "# collection = client.get_or_create_collection(name=\"picasso_collection\", embedding_function=sentence_transformer_ef)\n",
    "collection = client.get_or_create_collection(name=\"picasso_collection_wikipedia\", embedding_function=sentence_transformer_ef)\n",
    "collection.count()"
   ]
  },
  {
   "attachments": {},
   "cell_type": "markdown",
   "metadata": {},
   "source": [
    "#### Creating VectorStore from ChromaDB"
   ]
  },
  {
   "cell_type": "code",
   "execution_count": 5,
   "metadata": {},
   "outputs": [],
   "source": [
    "from llama_index import VectorStoreIndex, SimpleDirectoryReader, ServiceContext\n",
    "from llama_index.vector_stores import ChromaVectorStore\n",
    "from llama_index.storage.storage_context import StorageContext\n",
    "from langchain.embeddings.huggingface import HuggingFaceEmbeddings\n",
    "from llama_index.embeddings import LangchainEmbedding"
   ]
  },
  {
   "cell_type": "code",
   "execution_count": 6,
   "metadata": {},
   "outputs": [
    {
     "name": "stderr",
     "output_type": "stream",
     "text": [
      "/home/semantic-server/soganghci/api-server/.venv/lib/python3.10/site-packages/torch/cuda/__init__.py:107: UserWarning: CUDA initialization: CUDA unknown error - this may be due to an incorrectly set up environment, e.g. changing env variable CUDA_VISIBLE_DEVICES after program start. Setting the available devices to be zero. (Triggered internally at ../c10/cuda/CUDAFunctions.cpp:109.)\n",
      "  return torch._C._cuda_getDeviceCount() > 0\n"
     ]
    }
   ],
   "source": [
    "embed_model = LangchainEmbedding(\n",
    "    HuggingFaceEmbeddings(model_name=\"sentence-transformers/all-mpnet-base-v2\")\n",
    ")"
   ]
  },
  {
   "cell_type": "code",
   "execution_count": 7,
   "metadata": {},
   "outputs": [],
   "source": [
    "vector_store = ChromaVectorStore(chroma_collection=collection)\n",
    "storage_context = StorageContext.from_defaults(vector_store=vector_store)\n",
    "service_context = ServiceContext.from_defaults(embed_model=embed_model)"
   ]
  },
  {
   "cell_type": "code",
   "execution_count": 8,
   "metadata": {},
   "outputs": [],
   "source": [
    "index = VectorStoreIndex.from_vector_store(\n",
    "    vector_store=vector_store, storage_context=storage_context, service_context=service_context\n",
    ")"
   ]
  },
  {
   "cell_type": "code",
   "execution_count": 19,
   "metadata": {},
   "outputs": [
    {
     "name": "stdout",
     "output_type": "stream",
     "text": [
      "\n",
      "The broken sword near the bottom of the painting symbolizes the defeat of the people at the hand of their tormentors.\n"
     ]
    }
   ],
   "source": [
    "query_engine = index.as_query_engine()\n",
    "res =query_engine.query(\"Whats the meaning of the broken sword in the painting Guernica?\")\n",
    "print(res)"
   ]
  },
  {
   "cell_type": "code",
   "execution_count": 21,
   "metadata": {},
   "outputs": [
    {
     "name": "stdout",
     "output_type": "stream",
     "text": [
      "\" See \"The Photographic Conditions of Surrealism\" (October, winter 1981).\n",
      "\n",
      "Picasso's collages\n",
      "Concer\n",
      "ning Cubist art, she took Picasso's collage breakthrough to be explicable in terms of Saussure's ide\n",
      "as about the differential relations and non-referentiality of language, rejecting efforts by other s\n",
      "cholars to tie the pasted newspaper clippings to social history. Similarly, she held Picasso's styli\n",
      "stic developments in Cubist portraiture to be products of theoretical problems internal to art, rath\n",
      "er than outcomes of the artist's love life. Later, she explained Picasso's participation in the rapp\n",
      "el à l'ordre or return to order of the 1920s in similar structuralist terms. See \"In the Name of Pic\n",
      "asso\" (October, spring 1981), \"The Motivation of the Sign\" (in Lynn Zelevansky, ed., Picasso and Bra\n",
      "que: A Symposium, 1992), and The Picasso Papers (Farrar, Straus and Giroux, 1998)\n",
      "======\n",
      "Kontinent Picasso: ausgewählte Aufsätze aus 2 Jahrzehnten, Munich 1988 ISBN 3-7913-0891-2.Die Welt d\n",
      "er Collage, Tübingen, Bern, Düsseldorf 1988.Rosarot vor Miami: Ausflüge zu Kunst und Künstlern unser\n",
      "es Jahrhunderts, Munich 1989 ISBN 3-7913-1017-8.Pablo Picasso – der Zeichner: 300 Zeichnungen und Gr\n",
      "aphiken 1893–1972, ed. Jean Jouvet, with essays by Werner Spies, Zurich 1989 ISBN 3-257-21747-1\n",
      "Max \n",
      "Ernst- The Invention of the Surrealist Universe, New York, London, 1990\n",
      "Dressierte Malerei – entrück\n",
      "te Utopie: zur französischen Kunst des 19. Jahrhunderts, Stuttgart 1990 ISBN 3-7757-0289-X\n",
      "Max Ernst\n",
      ": Retrospektive zum 100\n",
      "======\n",
      "An Open-ended Oeuvre in Dada and the Dawn of Surrealism; The Museum of Modern Art, New York, The Men\n",
      "il Collection, Houston, The Art Institute of Chicago 1993.Picasso – die Welt der Kinder, Munich 1994\n",
      " ISBN 3-7913-1346-0.Schnitt durch die Welt: Aufsätze zu Kunst und Literatur, Stuttgart 1995 ISBN 3-8\n",
      "9322-732-6.Pablo Picasso: Wege zur Skulptur; die Carnets Paris und Dinard von 1928; anlässlich der A\n",
      "usstellung im Wilhelm-Lehmbruck-Museum Duisburg, 29 January – 2 April 1995; der Hamburger Kunsthalle\n",
      ", 16 June – 13 August 1995; München, New York 1995 ISBN 3-7913-1436-X.Max Ernst-Skulpturen, Häuser, \n",
      "Landschaften; Centre Georges Pompidou 1998, Düsseldorf Kunstsammlung Nordrhein-Westfalen 1995\n",
      "======\n",
      "Books\n",
      "Matta (New York: Museum of Modern Art, 1957)\n",
      "Modern Sacred Art and the Church of Assy (New Yor\n",
      "k: Columbia University Press, 1961)\n",
      "Dada and Surrealist Art (New York: Harry N. Abrams, 1968)\n",
      "Picass\n",
      "o in the Collection of the Museum of Modern Art (New York: Museum of Modern Art, 1971)\n",
      "André Masson \n",
      "[with Carolyn Lanchner] (New York: Museum of Modern Art, 1976)\n",
      "Cézanne: The Late Work [with John Rew\n",
      "ald and Theodore Reff] (New York: Museum of Modern Art, 1978)\n",
      "Pablo Picasso: A Retrospective (New Yo\n",
      "rk: Museum of Modern Art, 1980)\n",
      "Primitivism in Twentieth-Century Art: Affinity of the Tribal and the\n",
      " Modern [with Kirk Varnedoe] (New York: Museum of Modern Art, 1984\n",
      "Picasso and Braque: Pioneering Cu\n",
      "bism (New York: Museum of Modern Art, 1989)\n",
      "Picasso and Portraiture (New York: Museum of Modern Art,\n",
      " 1996)\n",
      "\n",
      "Bibliography\n",
      "Picasso, Pablo; Rubin, William S\n",
      "======\n",
      "The Prodigy, 1881-1906. New York: Alfred A. Knopf, 1991. ISBN 978-0-307-26666-8\n",
      "Richardson, John. A \n",
      "Life of Picasso, The Cubist Rebel 1907-1916. New York: Alfred A. Knopf, 1991. ISBN 978-0-307-26665-1\n",
      "\n",
      "Picasso, P., Rubin, W. S., & Fluegel, J. Pablo Picasso, a retrospective. New York: Museum of Modern\n",
      " Art, 1980. ISBN 0-87070-528-8\n",
      "Rubin, W. S. \"Primitivism\" in 20th Century Art: Affinity of the Triba\n",
      "l and the Modern. New York: Museum of Modern Art, 1984. ISBN 0-87070-534-2\n",
      "Howells, R. Visual Cultur\n",
      "e. Wiley-Blackwell, 2003. ISBN 0-7456-2412-X\n",
      "======\n"
     ]
    }
   ],
   "source": [
    "from llama_index.indices.vector_store.retrievers import VectorIndexRetriever\n",
    "\n",
    "retriever = VectorIndexRetriever(index=index, similarity_top_k=5)\n",
    "node_reps = retriever.retrieve(\"Picasso movement surrealism\")\n",
    "\n",
    "for node_rep in node_reps:\n",
    "    print_text_with_line_breaks(node_rep.node.get_content())\n",
    "    print(\"======\")"
   ]
  }
 ],
 "metadata": {
  "kernelspec": {
   "display_name": ".venv",
   "language": "python",
   "name": "python3"
  },
  "language_info": {
   "codemirror_mode": {
    "name": "ipython",
    "version": 3
   },
   "file_extension": ".py",
   "mimetype": "text/x-python",
   "name": "python",
   "nbconvert_exporter": "python",
   "pygments_lexer": "ipython3",
   "version": "3.10.9"
  },
  "orig_nbformat": 4
 },
 "nbformat": 4,
 "nbformat_minor": 2
}
