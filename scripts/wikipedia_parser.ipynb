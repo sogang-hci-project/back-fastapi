{
 "cells": [
  {
   "cell_type": "code",
   "execution_count": 2,
   "metadata": {},
   "outputs": [],
   "source": [
    "import re\n",
    "\n",
    "def print_text_with_line_breaks(text, line_length=100):\n",
    "    for i in range(0, len(text), line_length):\n",
    "        print(text[i:i+line_length])\n",
    "\n",
    "def save_string_to_txt(string_content, txt_file):\n",
    "    with open(txt_file, 'w', encoding='utf-8') as file:\n",
    "        file.write(string_content)\n",
    "\n",
    "def remove_text_in_square_brackets(input_string):\n",
    "    pattern = r\"\\[[^\\]]*\\]\"\n",
    "    result = re.sub(pattern, \"\", input_string)\n",
    "\n",
    "    return result\n"
   ]
  },
  {
   "attachments": {},
   "cell_type": "markdown",
   "metadata": {},
   "source": [
    "#### Wikipedia Extract Parser"
   ]
  },
  {
   "cell_type": "code",
   "execution_count": 14,
   "metadata": {},
   "outputs": [
    {
     "name": "stdout",
     "output_type": "stream",
     "text": [
      "Pablo Ruiz Picasso (25 October 1881 – 8 April 1973) was a Spanish painter, sculptor, printmaker, cer\n",
      "amicist and theatre designer who spent most of his adult life in France. One of the most influential\n",
      " artists of the 20th century, he is known for co-founding the Cubist movement, the invention of cons\n",
      "tructed sculpture, the co-invention of collage, and for the wide variety of styles that he helped de\n",
      "velop and explore. Among his most famous works are the proto-Cubist Les Demoiselles d'Avignon (1907)\n",
      ", and the anti-war painting Guernica (1937), a dramatic portrayal of the bombing of Guernica by Germ\n",
      "an and Italian air forces during the Spanish Civil War.\n",
      "Picasso demonstrated extraordinary artistic \n",
      "talent in his early years, painting in a naturalistic manner through his childhood and adolescence. \n",
      "During the first decade of the 20th century, his style changed as he experimented with different the\n",
      "ories, techniques, and ideas. After 1906, the Fauvist work of the older artist Henri Matisse motivat\n",
      "ed Picasso to explore more radical styles, beginning a fruitful rivalry between the two artists, who\n",
      " subsequently were often paired by critics as the leaders of modern art.Picasso's work is often cate\n",
      "gorized into periods. While the names of many of his later periods are debated, the most commonly ac\n",
      "cepted periods in his work are the Blue Period (1901–1904), the Rose Period (1904–1906), the African\n",
      "-influenced Period (1907–1909), Analytic Cubism (1909–1912), and Synthetic Cubism (1912–1919), also \n",
      "referred to as the Crystal period. Much of Picasso's work of the late 1910s and early 1920s is in a \n",
      "neoclassical style, and his work in the mid-1920s often has characteristics of Surrealism. His later\n",
      " work often combines elements of his earlier styles.\n",
      "Exceptionally prolific throughout the course of\n",
      " his long life, Picasso achieved universal renown and immense fortune for his revolutionary artistic\n",
      " accomplishments, and became one of the best-known figures in 20th-century art.\n"
     ]
    }
   ],
   "source": [
    "import requests\n",
    "import datetime\n",
    "\n",
    "current_datetime = datetime.datetime.now()\n",
    "title=\"Guernica (Picasso)\"\n",
    "\n",
    "response = requests.get(\n",
    "    'https://en.wikipedia.org/w/api.php',\n",
    "    params={\n",
    "        'action': 'query',\n",
    "        'format': 'json',\n",
    "        'titles': f'{title}',\n",
    "        'prop': 'extracts',\n",
    "        'exintro': True,\n",
    "        'explaintext': True,\n",
    "    }).json()\n",
    "page = next(iter(response['query']['pages'].values()))\n",
    "text_string = page['extract']\n",
    "\n",
    "save_string_to_txt(string_content=text_string, txt_file=f\"{title}_{current_datetime}.txt\")"
   ]
  },
  {
   "attachments": {},
   "cell_type": "markdown",
   "metadata": {},
   "source": [
    "#### Wikipedia Full Text Parser"
   ]
  },
  {
   "cell_type": "code",
   "execution_count": 4,
   "metadata": {},
   "outputs": [],
   "source": [
    "import requests\n",
    "from lxml import html\n",
    "import datetime\n",
    "\n",
    "current_datetime = datetime.datetime.now()\n",
    "title=\"Pablo Picasso\"\n",
    "\n",
    "response = requests.get(\n",
    "    'https://en.wikipedia.org/w/api.php',\n",
    "    params={\n",
    "        'action': 'parse',\n",
    "        'page': f'{title}',\n",
    "        'format': 'json',\n",
    "    }).json()\n",
    "raw_html = response['parse']['text']['*']\n",
    "document = html.document_fromstring(raw_html)\n",
    "p_nodes = document.xpath('//p')\n",
    "\n",
    "text_string = \" \".join(list(map(lambda x: x.text_content(), p_nodes)))\n",
    "text_string = remove_text_in_square_brackets(text_string)\n",
    "\n",
    "save_string_to_txt(string_content=text_string, txt_file=f\"{title}_{current_datetime}.txt\")"
   ]
  },
  {
   "attachments": {},
   "cell_type": "markdown",
   "metadata": {},
   "source": [
    "#### Recursive Wikipedia Full Text Parser"
   ]
  },
  {
   "cell_type": "code",
   "execution_count": 9,
   "metadata": {},
   "outputs": [
    {
     "name": "stdout",
     "output_type": "stream",
     "text": [
      "The page 'Eva Gouel' does not exist on Wikipedia.\n",
      "The page 'Harlequin and His Companion (The Saltimbanque)' does not exist on Wikipedia.\n",
      "The page 'Henry Valensi' does not exist on Wikipedia.\n",
      "The page 'House in the Garden (House and Trees)' does not exist on Wikipedia.\n",
      "The page 'Jeffrey B. Jackson' does not exist on Wikipedia.\n",
      "The page 'Richard Lacayo' does not exist on Wikipedia.\n",
      "The page 'File:10 PABLO PICASO.ogg' does not exist on Wikipedia.\n"
     ]
    },
    {
     "ename": "FileNotFoundError",
     "evalue": "[Errno 2] No such file or directory: 'wikipedia_Template:Marriage/doc_2023-07-23 20:38:01.686399.txt'",
     "output_type": "error",
     "traceback": [
      "\u001b[0;31m---------------------------------------------------------------------------\u001b[0m",
      "\u001b[0;31mFileNotFoundError\u001b[0m                         Traceback (most recent call last)",
      "Cell \u001b[0;32mIn[9], line 37\u001b[0m\n\u001b[1;32m     34\u001b[0m sub_linked_titles\u001b[39m.\u001b[39mappend(title)\n\u001b[1;32m     36\u001b[0m \u001b[39mfor\u001b[39;00m title_item \u001b[39min\u001b[39;00m sub_linked_titles:\n\u001b[0;32m---> 37\u001b[0m     save_wikipedia_to_text(title_item)\n",
      "Cell \u001b[0;32mIn[9], line 30\u001b[0m, in \u001b[0;36msave_wikipedia_to_text\u001b[0;34m(title)\u001b[0m\n\u001b[1;32m     28\u001b[0m current_datetime \u001b[39m=\u001b[39m datetime\u001b[39m.\u001b[39mdatetime\u001b[39m.\u001b[39mnow()\n\u001b[1;32m     29\u001b[0m text_string \u001b[39m=\u001b[39m get_page_content(title)\n\u001b[0;32m---> 30\u001b[0m save_string_to_txt(string_content\u001b[39m=\u001b[39;49mtext_string, txt_file\u001b[39m=\u001b[39;49m\u001b[39mf\u001b[39;49m\u001b[39m\"\u001b[39;49m\u001b[39mwikipedia_\u001b[39;49m\u001b[39m{\u001b[39;49;00mtitle\u001b[39m}\u001b[39;49;00m\u001b[39m_\u001b[39;49m\u001b[39m{\u001b[39;49;00mcurrent_datetime\u001b[39m}\u001b[39;49;00m\u001b[39m.txt\u001b[39;49m\u001b[39m\"\u001b[39;49m)\n",
      "Cell \u001b[0;32mIn[1], line 8\u001b[0m, in \u001b[0;36msave_string_to_txt\u001b[0;34m(string_content, txt_file)\u001b[0m\n\u001b[1;32m      7\u001b[0m \u001b[39mdef\u001b[39;00m \u001b[39msave_string_to_txt\u001b[39m(string_content, txt_file):\n\u001b[0;32m----> 8\u001b[0m     \u001b[39mwith\u001b[39;00m \u001b[39mopen\u001b[39;49m(txt_file, \u001b[39m'\u001b[39;49m\u001b[39mw\u001b[39;49m\u001b[39m'\u001b[39;49m, encoding\u001b[39m=\u001b[39;49m\u001b[39m'\u001b[39;49m\u001b[39mutf-8\u001b[39;49m\u001b[39m'\u001b[39;49m) \u001b[39mas\u001b[39;00m file:\n\u001b[1;32m      9\u001b[0m         file\u001b[39m.\u001b[39mwrite(string_content)\n",
      "File \u001b[0;32m~/soganghci/api-server/.venv/lib/python3.10/site-packages/IPython/core/interactiveshell.py:284\u001b[0m, in \u001b[0;36m_modified_open\u001b[0;34m(file, *args, **kwargs)\u001b[0m\n\u001b[1;32m    277\u001b[0m \u001b[39mif\u001b[39;00m file \u001b[39min\u001b[39;00m {\u001b[39m0\u001b[39m, \u001b[39m1\u001b[39m, \u001b[39m2\u001b[39m}:\n\u001b[1;32m    278\u001b[0m     \u001b[39mraise\u001b[39;00m \u001b[39mValueError\u001b[39;00m(\n\u001b[1;32m    279\u001b[0m         \u001b[39mf\u001b[39m\u001b[39m\"\u001b[39m\u001b[39mIPython won\u001b[39m\u001b[39m'\u001b[39m\u001b[39mt let you open fd=\u001b[39m\u001b[39m{\u001b[39;00mfile\u001b[39m}\u001b[39;00m\u001b[39m by default \u001b[39m\u001b[39m\"\u001b[39m\n\u001b[1;32m    280\u001b[0m         \u001b[39m\"\u001b[39m\u001b[39mas it is likely to crash IPython. If you know what you are doing, \u001b[39m\u001b[39m\"\u001b[39m\n\u001b[1;32m    281\u001b[0m         \u001b[39m\"\u001b[39m\u001b[39myou can use builtins\u001b[39m\u001b[39m'\u001b[39m\u001b[39m open.\u001b[39m\u001b[39m\"\u001b[39m\n\u001b[1;32m    282\u001b[0m     )\n\u001b[0;32m--> 284\u001b[0m \u001b[39mreturn\u001b[39;00m io_open(file, \u001b[39m*\u001b[39;49margs, \u001b[39m*\u001b[39;49m\u001b[39m*\u001b[39;49mkwargs)\n",
      "\u001b[0;31mFileNotFoundError\u001b[0m: [Errno 2] No such file or directory: 'wikipedia_Template:Marriage/doc_2023-07-23 20:38:01.686399.txt'"
     ]
    }
   ],
   "source": [
    "import wikipediaapi\n",
    "import datetime\n",
    "\n",
    "current_datetime = datetime.datetime.now()\n",
    "wiki_wiki = wikipediaapi.Wikipedia('MyProjectName (hyd6623@naver.com)', 'en')\n",
    "\n",
    "def get_sub_linked_titles(wiki_title):\n",
    "    page = wiki_wiki.page(wiki_title)\n",
    "    if not page.exists():\n",
    "        print(f\"The page '{wiki_title}' does not exist on Wikipedia.\")\n",
    "        return []\n",
    "\n",
    "    sub_linked_titles = []\n",
    "    for link in page.links:\n",
    "        sub_linked_titles.append(link)\n",
    "\n",
    "    return sub_linked_titles\n",
    "\n",
    "def get_page_content(wiki_title):\n",
    "    page = wiki_wiki.page(wiki_title)\n",
    "    if not page.exists():\n",
    "        print(f\"The page '{wiki_title}' does not exist on Wikipedia.\")\n",
    "        return \"\"\n",
    "\n",
    "    return page.text\n",
    "\n",
    "def save_wikipedia_to_text(title: str):\n",
    "    current_datetime = datetime.datetime.now()\n",
    "    text_string = get_page_content(title)\n",
    "    save_string_to_txt(string_content=text_string, txt_file=f\"wikipedia_{title}_{current_datetime}.txt\")\n",
    "\n",
    "title = \"Pablo Picasso\"\n",
    "sub_linked_titles = get_sub_linked_titles(title)\n",
    "sub_linked_titles.append(title)\n",
    "\n",
    "for title_item in sub_linked_titles:\n",
    "    save_wikipedia_to_text(title_item)"
   ]
  },
  {
   "attachments": {},
   "cell_type": "markdown",
   "metadata": {},
   "source": [
    "#### Webpage Parser"
   ]
  },
  {
   "cell_type": "code",
   "execution_count": 51,
   "metadata": {},
   "outputs": [
    {
     "name": "stdout",
     "output_type": "stream",
     "text": [
      "Pablo Picasso (Pablo Ruiz Picasso) - Guernica What's on at the Museo Tickets Informative guide Openi\n",
      "ng hours & prices EN ES EN PressRestorationLibrary and Documentation CentreEducationStudy CentreSupp\n",
      "ort VisitPublicationsCollectionExhibitionsActivities Visit Hours and TicketsAccessGuided ToursGroup \n",
      "visitServicesAccessibilityPublicationsCollection Episode 1Episode 2Episode 3Episode 4Artworks in pub\n",
      "lic placesBrowse all artworksRestorationExhibitionsActivities Seminars and LecturesFilm and VideoMus\n",
      "ic, Dance and PerformanceAssociated activitiesForce LinesTIZs What's on at the Museo PressRestoratio\n",
      "nLibrary and Documentation CentreEducationStudy CentreSupport Tickets Opening hours & prices Buscar \n",
      "en Entire website Colección Actividades Exposiciones Educación Visitas comentadas Multimedia Prensa \n",
      "Palabra clave ES EN Buscar Entire websiteCollectionActivitiesExhibitionsEducationGallery conversatio\n",
      "nsMultimediaPressPublications Palabra clave Guernica Pablo Picasso (Pablo Ruiz Picasso) Malaga, Spai\n",
      "n, 1881 - Mougins, France, 1973 Date: 1937 (May 1st-June 4th, Paris) Technique: Oil on canvas Dimens\n",
      "ions: 349,3 x 776,6 cm Category: Painting Entry date: 1992 Observations: The government of the Spani\n",
      "sh Republic acquired the mural \"Guernica\" from Picasso in 1937. When World War II broke out, the art\n",
      "ist decided that the painting should remain in the custody of New York's Museum of Modern Art for sa\n",
      "fekeeping until the conflict ended. In 1958 Picasso extended the loan of the painting to MoMA for an\n",
      " indefinite period, until such time that democracy had been restored in Spain. The work finally retu\n",
      "rned to this country in 1981. Register number: DE00050 On display in: Room 205.10 - Guernica An accu\n",
      "rate depiction of a cruel, dramatic situation, Guernica was created to be part of the Spanish Pavili\n",
      "on at the International Exposition in Paris in 1937. Pablo Picasso’s motivation for painting the sce\n",
      "ne in this great work was the news of the German aerial bombing of the Basque town whose name the pi\n",
      "ece bears, which the artist had seen in the dramatic photographs published in various periodicals, i\n",
      "ncluding the French newspaper L'Humanité. Despite that, neither the studies nor the finished picture\n",
      " contain a single allusion to a specific event, constituting instead a generic plea against the barb\n",
      "arity and terror of war. The huge picture is conceived as a giant poster, testimony to the horror th\n",
      "at the Spanish Civil War was causing and a forewarning of what was to come in the Second World War. \n",
      "The muted colours, the intensity of each and every one of the motifs and the way they are articulate\n",
      "d are all essential to the extreme tragedy of the scene, which would become the emblem for all the d\n",
      "evastating tragedies of modern society.Guernica has attracted a number of controversial interpretati\n",
      "ons, doubtless due in part to the deliberate use in the painting of only greyish tones. Analysing th\n",
      "e iconography in the painting, one Guernica scholar, Anthony Blunt, divides the protagonists of the \n",
      "pyramidal composition into two groups, the first of which is made up of three animals; the bull, the\n",
      " wounded horse and the winged bird that can just be made out in the background on the left. The seco\n",
      "nd group is made up of the human beings, consisting of a dead soldier and a number of women: the one\n",
      " on the upper right, holding a lamp and leaning through a window, the mother on the left, wailing as\n",
      " she holds her dead child, the one rushing in from the right and finally the one who is crying out t\n",
      "o the heavens, her arms raised as a house burns down behind her.At this point it should be remembere\n",
      "d that two years earlier, in 1935, Picasso had done the etching Minotauromaquia, a synthetic work co\n",
      "ndensing into a single image all the symbols of his cycle dedicated to the mythological creature, wh\n",
      "ich stands as Guernica’s most direct relative.Incidents in Picasso’s private life and the political \n",
      "events afflicting Europe between the wars fused together in the motifs the painter was using at the \n",
      "time, resulting both in Guernica itself and all the studies and ‘postscripts’, regarded as among the\n",
      " most representative works of art of the 20th century.Paloma Esteban Leal Artworks in the collection\n",
      " Buste de jeune femme (Head of a Young Woman) Pablo Picasso (Pablo Ruiz Picasso) 1906 (Fall) Congrès\n",
      " des Peuples pour la Paix (Congress of Peoples for Peace) Pablo Picasso (Pablo Ruiz Picasso) 1952 Ro\n",
      "om 423 Congrès National du Mouvement de la Paix (National Congress for the Peace Movement) Pablo Pic\n",
      "asso (Pablo Ruiz Picasso) 1962 Paix désarmement pour le succès de la Conférence au sommet (Peace - D\n",
      "isarmament for the... Pablo Picasso (Pablo Ruiz Picasso) 1960 Room 423 Congrès Mondial pour le Désar\n",
      "mement Général et la Paix (World Congress for General... Pablo Picasso (Pablo Ruiz Picasso) 1962 See\n",
      " all the artworks Room 205.10 Guernica Artworks in the room Reportage sur l'évolution de «Guernica» \n",
      "(Photo Report of the Evolution of “Guernica”) Dora Maar (Henriette Theodora Markovitch) 1937 (May-Ju\n",
      "ne, Paris) Room 205.10 Reportage sur l'évolution de «Guernica» (Photo Report of the Evolution of “Gu\n",
      "ernica”) Dora Maar (Henriette Theodora Markovitch) 1937 (May-June, Paris) Room 205.10 Reportage sur \n",
      "l'évolution de «Guernica» (Photo Report of the Evolution of “Guernica”) Dora Maar (Henriette Theodor\n",
      "a Markovitch) 1937 (May-June, Paris) Room 205.10 Reportage sur l'évolution de «Guernica» (Photo Repo\n",
      "rt of the Evolution of “Guernica”) Dora Maar (Henriette Theodora Markovitch) 1937 (May-June, Paris) \n",
      "Room 205.10 Reportage sur l'évolution de «Guernica» (Photo Report of the Evolution of “Guernica”) Do\n",
      "ra Maar (Henriette Theodora Markovitch) 1937 (May-June, Paris) Room 205.10 Reportage sur l'évolution\n",
      " de «Guernica» (Photo Report of the Evolution of “Guernica”) Dora Maar (Henriette Theodora Markovitc\n",
      "h) 1937 (May-June, Paris) / Later print Room 205.10 See all the artworks Authors in the room Rethink\n",
      "ing Guernica Unpublished documents, gigapixel images, a comparison of photographic techniques, inter\n",
      "active chronology… on this new website related to Pablo Picasso’s Guernica. Related Videos Related E\n",
      "xhibitions Related Activities Related Gallery Conversations Related visits Other ways to explore the\n",
      " Collection from different points of view. Download of brochures to prepare the tour Highlights Carg\n",
      "ando... The Museo Reina Sofía radio station Collection of thought and debate A publication on art, p\n",
      "olitics and the public sphere Videos, audio and podcasts Collaboration with different agents and int\n",
      "ernational political and cultural collectives A confederation of artistic internationalism made up o\n",
      "f seven European museums Museum Mission statement History Venues Board of Trustees Fundación Team Fr\n",
      "iends of the Museum Economic data Advisory Board Visit Opening hours & prices Access and transport F\n",
      "requently Asked Questions The Essential Art Walk app Private tours and renting spaces Collection Pre\n",
      "sentation The History of the Collection Donations and long term loans at the Museo Reina Sofia Image\n",
      " Requests Contact Information Tel. (+34) 91 774 1000 Calle Santa Isabel, 52 28012 Madrid Browse map \n",
      "Newsletter subscription © Some rights reserved. Museo Nacional Centro de Arte Reina Sofía, 2023 Plan\n",
      " de Medidas Antifraude Legal Notice - Data protection - Cookies policy - Accessibility ↑\n"
     ]
    }
   ],
   "source": [
    "import requests\n",
    "from bs4 import BeautifulSoup\n",
    "import datetime\n",
    "\n",
    "current_datetime = datetime.datetime.now()\n",
    "webpage_url = \"https://www.museoreinasofia.es/en/collection/artwork/guernica\"\n",
    "\n",
    "def extract_text_from_url(url):\n",
    "    try:\n",
    "        response = requests.get(url)\n",
    "        response.raise_for_status()  # Check if the request was successful\n",
    "        html_content = response.text\n",
    "        soup = BeautifulSoup(html_content, 'html.parser')\n",
    "        # Remove all script and style tags to exclude code\n",
    "        for script in soup(['script', 'style', 'button', 'img', 'span', 'input', ]):\n",
    "            script.extract()\n",
    "        # Get the text content from the remaining HTML\n",
    "        text = soup.get_text()\n",
    "        # Normalize whitespace and remove leading/trailing spaces\n",
    "        text = ' '.join(text.split())\n",
    "        return text\n",
    "    except requests.exceptions.RequestException as e:\n",
    "        print(f\"Error fetching the URL: {e}\")\n",
    "        return None\n",
    "\n",
    "text_string = extract_text_from_url(webpage_url)\n",
    "save_string_to_txt(string_content=text_string, txt_file=f\"{'webpage_url'}_{current_datetime}.txt\")\n",
    "print_text_with_line_breaks(text_string)"
   ]
  }
 ],
 "metadata": {
  "kernelspec": {
   "display_name": ".venv",
   "language": "python",
   "name": "python3"
  },
  "language_info": {
   "codemirror_mode": {
    "name": "ipython",
    "version": 3
   },
   "file_extension": ".py",
   "mimetype": "text/x-python",
   "name": "python",
   "nbconvert_exporter": "python",
   "pygments_lexer": "ipython3",
   "version": "3.10.9"
  },
  "orig_nbformat": 4
 },
 "nbformat": 4,
 "nbformat_minor": 2
}
